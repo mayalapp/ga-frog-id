{
 "cells": [
  {
   "cell_type": "code",
   "execution_count": 1,
   "metadata": {},
   "outputs": [],
   "source": [
    "# suppress warnings\n",
    "import warnings\n",
    "warnings.simplefilter('ignore')\n",
    "\n",
    "#import packages\n",
    "import numpy as np\n",
    "from glob import glob\n",
    "import pandas as pd\n",
    "from matplotlib import pyplot as plt\n",
    "import subprocess\n",
    "from datetime import datetime\n",
    "from plotnine import *\n",
    "\n",
    "\n",
    "#local imports from opensoundscape\n",
    "from opensoundscape.audio import Audio\n",
    "from opensoundscape.spectrogram import Spectrogram\n",
    "from opensoundscape.ribbit import ribbit\n",
    "\n",
    "# create big visuals\n",
    "plt.rcParams['figure.figsize']=[15,8]\n",
    "pd.set_option('display.precision', 2)"
   ]
  },
  {
   "cell_type": "code",
   "execution_count": 11,
   "metadata": {},
   "outputs": [
    {
     "data": {
      "text/html": [
       "<div>\n",
       "<style scoped>\n",
       "    .dataframe tbody tr th:only-of-type {\n",
       "        vertical-align: middle;\n",
       "    }\n",
       "\n",
       "    .dataframe tbody tr th {\n",
       "        vertical-align: top;\n",
       "    }\n",
       "\n",
       "    .dataframe thead th {\n",
       "        text-align: right;\n",
       "    }\n",
       "</style>\n",
       "<table border=\"1\" class=\"dataframe\">\n",
       "  <thead>\n",
       "    <tr style=\"text-align: right;\">\n",
       "      <th></th>\n",
       "      <th>score</th>\n",
       "      <th>year</th>\n",
       "      <th>logger</th>\n",
       "      <th>time_stamp</th>\n",
       "      <th>date</th>\n",
       "    </tr>\n",
       "  </thead>\n",
       "  <tbody>\n",
       "    <tr>\n",
       "      <th>/Volumes/Expansion/Frog Call Project/Calling Data/FLSHE/FLSHE_2017/FLSHE_2017_398/TEST_0+1_20161031_174700.wav</th>\n",
       "      <td>35.48</td>\n",
       "      <td>2017</td>\n",
       "      <td>398</td>\n",
       "      <td>165.0</td>\n",
       "      <td>2016-10-31 17:47:00</td>\n",
       "    </tr>\n",
       "    <tr>\n",
       "      <th>/Volumes/Expansion/Frog Call Project/Calling Data/FLSHE/FLSHE_2017/FLSHE_2017_398/TEST_0+1_20161031_184700.wav</th>\n",
       "      <td>34.01</td>\n",
       "      <td>2017</td>\n",
       "      <td>398</td>\n",
       "      <td>141.5</td>\n",
       "      <td>2016-10-31 18:47:00</td>\n",
       "    </tr>\n",
       "    <tr>\n",
       "      <th>/Volumes/Expansion/Frog Call Project/Calling Data/FLSHE/FLSHE_2017/FLSHE_2017_398/TEST_0+1_20170104_174500.wav</th>\n",
       "      <td>30.37</td>\n",
       "      <td>2017</td>\n",
       "      <td>398</td>\n",
       "      <td>209.0</td>\n",
       "      <td>2017-01-04 17:45:00</td>\n",
       "    </tr>\n",
       "  </tbody>\n",
       "</table>\n",
       "</div>"
      ],
      "text/plain": [
       "                                                    score  year  logger  \\\n",
       "/Volumes/Expansion/Frog Call Project/Calling Da...  35.48  2017     398   \n",
       "/Volumes/Expansion/Frog Call Project/Calling Da...  34.01  2017     398   \n",
       "/Volumes/Expansion/Frog Call Project/Calling Da...  30.37  2017     398   \n",
       "\n",
       "                                                    time_stamp  \\\n",
       "/Volumes/Expansion/Frog Call Project/Calling Da...       165.0   \n",
       "/Volumes/Expansion/Frog Call Project/Calling Da...       141.5   \n",
       "/Volumes/Expansion/Frog Call Project/Calling Da...       209.0   \n",
       "\n",
       "                                                                  date  \n",
       "/Volumes/Expansion/Frog Call Project/Calling Da... 2016-10-31 17:47:00  \n",
       "/Volumes/Expansion/Frog Call Project/Calling Da... 2016-10-31 18:47:00  \n",
       "/Volumes/Expansion/Frog Call Project/Calling Da... 2017-01-04 17:45:00  "
      ]
     },
     "execution_count": 11,
     "metadata": {},
     "output_type": "execute_result"
    }
   ],
   "source": [
    "\n",
    "sa_flshe_df = pd.read_csv(\"./ribbit_scores_flshe/ribbit_scores.csv\", index_col = 0)\n",
    "sa_flshe_df['date'] = pd.to_datetime(sa_flshe_df.index.str[-19:-4], format='%Y%m%d_%H%M%S', errors='coerce')\n",
    "sa_flshe_df\n",
    "#sa_pulse_df['date']=pd.to_datetime(sa_pulse_df['date'])\n"
   ]
  },
  {
   "cell_type": "code",
   "execution_count": 10,
   "metadata": {},
   "outputs": [
    {
     "data": {
      "text/plain": [
       "Index(['/Volumes/Expansion/Frog Call Project/Calling Data/FLSHE/FLSHE_2017/FLSHE_2017_398/TEST_0+1_20161031_174700.wav',\n",
       "       '/Volumes/Expansion/Frog Call Project/Calling Data/FLSHE/FLSHE_2017/FLSHE_2017_398/TEST_0+1_20161031_184700.wav',\n",
       "       '/Volumes/Expansion/Frog Call Project/Calling Data/FLSHE/FLSHE_2017/FLSHE_2017_398/TEST_0+1_20170104_174500.wav'],\n",
       "      dtype='object')"
      ]
     },
     "execution_count": 10,
     "metadata": {},
     "output_type": "execute_result"
    }
   ],
   "source": [
    "sa_flshe_df.index"
   ]
  },
  {
   "cell_type": "code",
   "execution_count": null,
   "metadata": {},
   "outputs": [],
   "source": []
  }
 ],
 "metadata": {
  "kernelspec": {
   "display_name": "OpenSoundscape060",
   "language": "python",
   "name": "opensoundscape060"
  },
  "language_info": {
   "codemirror_mode": {
    "name": "ipython",
    "version": 3
   },
   "file_extension": ".py",
   "mimetype": "text/x-python",
   "name": "python",
   "nbconvert_exporter": "python",
   "pygments_lexer": "ipython3",
   "version": "3.7.11"
  }
 },
 "nbformat": 4,
 "nbformat_minor": 4
}
