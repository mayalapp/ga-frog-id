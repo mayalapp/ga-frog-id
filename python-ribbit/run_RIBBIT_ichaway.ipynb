{
 "cells": [
  {
   "cell_type": "code",
   "execution_count": null,
   "metadata": {},
   "outputs": [],
   "source": [
    "## OpenSoundscape RIBBIT tutorial\n",
    "# http://opensoundscape.org/en/latest/tutorials/RIBBIT_pulse_rate_demo.html"
   ]
  },
  {
   "cell_type": "markdown",
   "metadata": {},
   "source": [
    "## Setup "
   ]
  },
  {
   "cell_type": "code",
   "execution_count": 3,
   "metadata": {},
   "outputs": [],
   "source": [
    "# suppress warnings\n",
    "import warnings\n",
    "warnings.simplefilter('ignore')\n",
    "warnings.simplefilter('ignore', UserWarning)\n",
    "\n",
    "#import packages\n",
    "import numpy as np\n",
    "from glob import glob\n",
    "import pandas as pd\n",
    "from matplotlib import pyplot as plt\n",
    "import subprocess\n",
    "from datetime import datetime\n",
    "\n",
    "\n",
    "#local imports from opensoundscape\n",
    "from opensoundscape.audio import Audio\n",
    "from opensoundscape.spectrogram import Spectrogram\n",
    "from opensoundscape.ribbit import ribbit\n",
    "\n",
    "# create big visuals\n",
    "plt.rcParams['figure.figsize']=[15,8]\n",
    "pd.set_option('display.precision', 2)"
   ]
  },
  {
   "cell_type": "markdown",
   "metadata": {},
   "source": [
    "## Set parameters "
   ]
  },
  {
   "cell_type": "code",
   "execution_count": null,
   "metadata": {},
   "outputs": [],
   "source": [
    "# These parameters can be adjusted to try to improve the model or to change the model for a different herp species "
   ]
  },
  {
   "cell_type": "code",
   "execution_count": 4,
   "metadata": {},
   "outputs": [],
   "source": [
    "# minimum and maximum rate of pulsing (pulses per second) to search for\n",
    "pulse_rate_range = [14,28] \n",
    "\n",
    "# look for a vocalization in the range of 600-800 Hz\n",
    "signal_band = [600,800]\n",
    "\n",
    "# subtract the amplitude signal from these frequency ranges\n",
    "noise_bands = [[150,200], [1500,1600]]\n",
    "\n",
    "#divides the signal into segments this many seconds long, analyzes each independently\n",
    "clip_duration = 1 #seconds\n",
    "clip_overlap = 0.5 #seconds\n",
    "\n",
    "#if True, it will show the power spectrum plot for each audio segment\n",
    "show_plots = False \n"
   ]
  },
  {
   "cell_type": "code",
   "execution_count": 5,
   "metadata": {},
   "outputs": [],
   "source": [
    "# run RIBBIT for a specific every index in a df where the index is a file path; save the score in that df \n",
    "def run_ribbit_for_indices(df):\n",
    "    start_time = datetime.now() # track how long the model takes\n",
    "    checkpoint = 0; # create checkpoint for saving RIBBIT scores periodically \n",
    "\n",
    "    # for every data file for year i, pond j... calculate RIBBIT score \n",
    "    for path in df.index:\n",
    "\n",
    "        try: # make sure RIBBIT is working for this audio file, if it doesn't work for some reason, skip this so the model will continue running \n",
    "            #make the spectrogram\n",
    "            spec = Spectrogram.from_audio(Audio.from_file(path))\n",
    "\n",
    "            #run RIBBIT on the spectrogram \n",
    "            score_df =  ribbit(\n",
    "                                spec,\n",
    "                                pulse_rate_range=pulse_rate_range,\n",
    "                                signal_band=signal_band,\n",
    "                                clip_duration=clip_duration,\n",
    "                                noise_bands=noise_bands,\n",
    "                                plot=False)\n",
    "\n",
    "\n",
    "            maxIndex= score_df.score.idxmax() # find the index for where the max RIBBIT score occurs for the audio file \n",
    "\n",
    "            # record the max RIBBIT score for the auio file (multiplied by 10,000 to make it easier to read)\n",
    "            df.at[path,'score'] = score_df.at[maxIndex, 'score'] * 10000\n",
    "            # record the time in the audio file that the max RIBBIT score occurs (so can be checked manually)\n",
    "            df.at[path,'time_stamp'] = score_df.at[maxIndex, 'start_time']\n",
    "\n",
    "            checkpoint = checkpoint + 1 \n",
    "\n",
    "        except (RuntimeError, EOFError) as runtime_error: # if the file does not work with RIBBIT, skip it and output a failure message; use -1 for RIBBIT score and time stamp\n",
    "            print(\"File failed: \", path)\n",
    "            print(runtime_error)\n",
    "\n",
    "\n",
    "            df.at[path,'score'] = -1 \n",
    "            df.at[path,'time_stamp'] = -1\n",
    "            checkpoint = checkpoint + 1\n",
    "            pass \n",
    "\n",
    "        # every 100 files, print checkpoint message and save RIBBIT scores to csv file to back them up \n",
    "        if checkpoint % 100 == 0:\n",
    "            print(\"Finished file number \", checkpoint, \"/nFile name: \", path)\n",
    "            print(df.sort_values(by='score',ascending=False).head(1))\n",
    "            df.to_csv(csv_file_name) \n",
    "\n",
    "\n",
    "    df.sort_values(by='score',ascending=False).to_csv(csv_file_name) # sort by highest RIBBIT scores and save to csv\n",
    "    print('Time elapsed ',datetime.now() - start_time) # print time taken for this pond-year\n",
    "\n",
    "    #print(\"Files sorted by score, from highest to lowest:\")\n",
    "    df.sort_values(by='score',ascending=False)   \n",
    "\n",
    "        "
   ]
  },
  {
   "cell_type": "markdown",
   "metadata": {},
   "source": [
    "## Analyzing all files"
   ]
  },
  {
   "cell_type": "code",
   "execution_count": 6,
   "metadata": {},
   "outputs": [
    {
     "name": "stderr",
     "output_type": "stream",
     "text": [
      "/Users/mayalapp/opt/anaconda3/envs/opensoundscape060/lib/python3.7/site-packages/scipy/signal/spectral.py:1966: UserWarning: nperseg = 256 is greater than input length  = 62, using nperseg = 62\n",
      "  .format(nperseg, input_length))\n",
      "/Users/mayalapp/opt/anaconda3/envs/opensoundscape060/lib/python3.7/site-packages/scipy/signal/spectral.py:1966: UserWarning: nperseg = 256 is greater than input length  = 63, using nperseg = 63\n",
      "  .format(nperseg, input_length))\n",
      "/Users/mayalapp/opt/anaconda3/envs/opensoundscape060/lib/python3.7/site-packages/scipy/signal/spectral.py:1966: UserWarning: nperseg = 256 is greater than input length  = 62, using nperseg = 62\n",
      "  .format(nperseg, input_length))\n",
      "/Users/mayalapp/opt/anaconda3/envs/opensoundscape060/lib/python3.7/site-packages/scipy/signal/spectral.py:1966: UserWarning: nperseg = 256 is greater than input length  = 63, using nperseg = 63\n",
      "  .format(nperseg, input_length))\n",
      "/Users/mayalapp/opt/anaconda3/envs/opensoundscape060/lib/python3.7/site-packages/scipy/signal/spectral.py:1966: UserWarning: nperseg = 256 is greater than input length  = 62, using nperseg = 62\n",
      "  .format(nperseg, input_length))\n",
      "/Users/mayalapp/opt/anaconda3/envs/opensoundscape060/lib/python3.7/site-packages/scipy/signal/spectral.py:1966: UserWarning: nperseg = 256 is greater than input length  = 63, using nperseg = 63\n",
      "  .format(nperseg, input_length))\n",
      "/Users/mayalapp/opt/anaconda3/envs/opensoundscape060/lib/python3.7/site-packages/scipy/signal/spectral.py:1966: UserWarning: nperseg = 256 is greater than input length  = 62, using nperseg = 62\n",
      "  .format(nperseg, input_length))\n",
      "/Users/mayalapp/opt/anaconda3/envs/opensoundscape060/lib/python3.7/site-packages/scipy/signal/spectral.py:1966: UserWarning: nperseg = 256 is greater than input length  = 63, using nperseg = 63\n",
      "  .format(nperseg, input_length))\n"
     ]
    },
    {
     "ename": "KeyboardInterrupt",
     "evalue": "",
     "output_type": "error",
     "traceback": [
      "\u001b[0;31m---------------------------------------------------------------------------\u001b[0m",
      "\u001b[0;31mKeyboardInterrupt\u001b[0m                         Traceback (most recent call last)",
      "\u001b[0;32m/var/folders/fx/n9nq8hjd5w7f5ymx00xgfcdh0000gn/T/ipykernel_3095/945580914.py\u001b[0m in \u001b[0;36m<module>\u001b[0;34m\u001b[0m\n\u001b[1;32m     26\u001b[0m \u001b[0;34m\u001b[0m\u001b[0m\n\u001b[1;32m     27\u001b[0m         \u001b[0;31m# for every data file for year i, pond j... calculate RIBBIT score\u001b[0m\u001b[0;34m\u001b[0m\u001b[0;34m\u001b[0m\u001b[0;34m\u001b[0m\u001b[0m\n\u001b[0;32m---> 28\u001b[0;31m         \u001b[0mrun_ribbit_for_indices\u001b[0m\u001b[0;34m(\u001b[0m\u001b[0mdf\u001b[0m\u001b[0;34m)\u001b[0m\u001b[0;34m\u001b[0m\u001b[0;34m\u001b[0m\u001b[0m\n\u001b[0m\u001b[1;32m     29\u001b[0m \u001b[0;34m\u001b[0m\u001b[0m\n\u001b[1;32m     30\u001b[0m         \u001b[0;31m#print(\"Files sorted by score, from highest to lowest:\")\u001b[0m\u001b[0;34m\u001b[0m\u001b[0;34m\u001b[0m\u001b[0;34m\u001b[0m\u001b[0m\n",
      "\u001b[0;32m/var/folders/fx/n9nq8hjd5w7f5ymx00xgfcdh0000gn/T/ipykernel_3095/192539052.py\u001b[0m in \u001b[0;36mrun_ribbit_for_indices\u001b[0;34m(df)\u001b[0m\n\u001b[1;32m     18\u001b[0m                                 \u001b[0mclip_duration\u001b[0m\u001b[0;34m=\u001b[0m\u001b[0mclip_duration\u001b[0m\u001b[0;34m,\u001b[0m\u001b[0;34m\u001b[0m\u001b[0;34m\u001b[0m\u001b[0m\n\u001b[1;32m     19\u001b[0m                                 \u001b[0mnoise_bands\u001b[0m\u001b[0;34m=\u001b[0m\u001b[0mnoise_bands\u001b[0m\u001b[0;34m,\u001b[0m\u001b[0;34m\u001b[0m\u001b[0;34m\u001b[0m\u001b[0m\n\u001b[0;32m---> 20\u001b[0;31m                                 plot=False)\n\u001b[0m\u001b[1;32m     21\u001b[0m \u001b[0;34m\u001b[0m\u001b[0m\n\u001b[1;32m     22\u001b[0m \u001b[0;34m\u001b[0m\u001b[0m\n",
      "\u001b[0;32m~/opt/anaconda3/envs/opensoundscape060/lib/python3.7/site-packages/opensoundscape/ribbit.py\u001b[0m in \u001b[0;36mribbit\u001b[0;34m(spectrogram, signal_band, pulse_rate_range, clip_duration, clip_overlap, final_clip, noise_bands, plot)\u001b[0m\n\u001b[1;32m    174\u001b[0m         \u001b[0;31m# - find max value in the pulse_rate_range\u001b[0m\u001b[0;34m\u001b[0m\u001b[0;34m\u001b[0m\u001b[0;34m\u001b[0m\u001b[0m\n\u001b[1;32m    175\u001b[0m         clip_df.at[i, \"score\"] = calculate_pulse_score(\n\u001b[0;32m--> 176\u001b[0;31m             \u001b[0mwindow\u001b[0m\u001b[0;34m,\u001b[0m \u001b[0msample_rate\u001b[0m\u001b[0;34m,\u001b[0m \u001b[0mpulse_rate_range\u001b[0m\u001b[0;34m,\u001b[0m \u001b[0mplot\u001b[0m\u001b[0;34m=\u001b[0m\u001b[0mplot\u001b[0m\u001b[0;34m\u001b[0m\u001b[0;34m\u001b[0m\u001b[0m\n\u001b[0m\u001b[1;32m    177\u001b[0m         )\n\u001b[1;32m    178\u001b[0m \u001b[0;34m\u001b[0m\u001b[0m\n",
      "\u001b[0;32m~/opt/anaconda3/envs/opensoundscape060/lib/python3.7/site-packages/opensoundscape/ribbit.py\u001b[0m in \u001b[0;36mcalculate_pulse_score\u001b[0;34m(amplitude, amplitude_sample_rate, pulse_rate_range, plot, nfft)\u001b[0m\n\u001b[1;32m     34\u001b[0m \u001b[0;34m\u001b[0m\u001b[0m\n\u001b[1;32m     35\u001b[0m     \u001b[0;31m# calculate amplitude modulation spectral density\u001b[0m\u001b[0;34m\u001b[0m\u001b[0;34m\u001b[0m\u001b[0;34m\u001b[0m\u001b[0m\n\u001b[0;32m---> 36\u001b[0;31m     \u001b[0mf\u001b[0m\u001b[0;34m,\u001b[0m \u001b[0mpsd\u001b[0m \u001b[0;34m=\u001b[0m \u001b[0msignal\u001b[0m\u001b[0;34m.\u001b[0m\u001b[0mwelch\u001b[0m\u001b[0;34m(\u001b[0m\u001b[0mamplitude\u001b[0m\u001b[0;34m,\u001b[0m \u001b[0mfs\u001b[0m\u001b[0;34m=\u001b[0m\u001b[0mamplitude_sample_rate\u001b[0m\u001b[0;34m,\u001b[0m \u001b[0mnfft\u001b[0m\u001b[0;34m=\u001b[0m\u001b[0mnfft\u001b[0m\u001b[0;34m)\u001b[0m\u001b[0;34m\u001b[0m\u001b[0;34m\u001b[0m\u001b[0m\n\u001b[0m\u001b[1;32m     37\u001b[0m \u001b[0;34m\u001b[0m\u001b[0m\n\u001b[1;32m     38\u001b[0m     \u001b[0;31m# look for the highest peak of power spectral density within pulse_rate_range\u001b[0m\u001b[0;34m\u001b[0m\u001b[0;34m\u001b[0m\u001b[0;34m\u001b[0m\u001b[0m\n",
      "\u001b[0;32m~/opt/anaconda3/envs/opensoundscape060/lib/python3.7/site-packages/scipy/signal/spectral.py\u001b[0m in \u001b[0;36mwelch\u001b[0;34m(x, fs, window, nperseg, noverlap, nfft, detrend, return_onesided, scaling, axis, average)\u001b[0m\n\u001b[1;32m    449\u001b[0m                      \u001b[0mnoverlap\u001b[0m\u001b[0;34m=\u001b[0m\u001b[0mnoverlap\u001b[0m\u001b[0;34m,\u001b[0m \u001b[0mnfft\u001b[0m\u001b[0;34m=\u001b[0m\u001b[0mnfft\u001b[0m\u001b[0;34m,\u001b[0m \u001b[0mdetrend\u001b[0m\u001b[0;34m=\u001b[0m\u001b[0mdetrend\u001b[0m\u001b[0;34m,\u001b[0m\u001b[0;34m\u001b[0m\u001b[0;34m\u001b[0m\u001b[0m\n\u001b[1;32m    450\u001b[0m                      \u001b[0mreturn_onesided\u001b[0m\u001b[0;34m=\u001b[0m\u001b[0mreturn_onesided\u001b[0m\u001b[0;34m,\u001b[0m \u001b[0mscaling\u001b[0m\u001b[0;34m=\u001b[0m\u001b[0mscaling\u001b[0m\u001b[0;34m,\u001b[0m\u001b[0;34m\u001b[0m\u001b[0;34m\u001b[0m\u001b[0m\n\u001b[0;32m--> 451\u001b[0;31m                      axis=axis, average=average)\n\u001b[0m\u001b[1;32m    452\u001b[0m \u001b[0;34m\u001b[0m\u001b[0m\n\u001b[1;32m    453\u001b[0m     \u001b[0;32mreturn\u001b[0m \u001b[0mfreqs\u001b[0m\u001b[0;34m,\u001b[0m \u001b[0mPxx\u001b[0m\u001b[0;34m.\u001b[0m\u001b[0mreal\u001b[0m\u001b[0;34m\u001b[0m\u001b[0;34m\u001b[0m\u001b[0m\n",
      "\u001b[0;32m~/opt/anaconda3/envs/opensoundscape060/lib/python3.7/site-packages/scipy/signal/spectral.py\u001b[0m in \u001b[0;36mcsd\u001b[0;34m(x, y, fs, window, nperseg, noverlap, nfft, detrend, return_onesided, scaling, axis, average)\u001b[0m\n\u001b[1;32m    582\u001b[0m     freqs, _, Pxy = _spectral_helper(x, y, fs, window, nperseg, noverlap, nfft,\n\u001b[1;32m    583\u001b[0m                                      \u001b[0mdetrend\u001b[0m\u001b[0;34m,\u001b[0m \u001b[0mreturn_onesided\u001b[0m\u001b[0;34m,\u001b[0m \u001b[0mscaling\u001b[0m\u001b[0;34m,\u001b[0m \u001b[0maxis\u001b[0m\u001b[0;34m,\u001b[0m\u001b[0;34m\u001b[0m\u001b[0;34m\u001b[0m\u001b[0m\n\u001b[0;32m--> 584\u001b[0;31m                                      mode='psd')\n\u001b[0m\u001b[1;32m    585\u001b[0m \u001b[0;34m\u001b[0m\u001b[0m\n\u001b[1;32m    586\u001b[0m     \u001b[0;31m# Average over windows.\u001b[0m\u001b[0;34m\u001b[0m\u001b[0;34m\u001b[0m\u001b[0;34m\u001b[0m\u001b[0m\n",
      "\u001b[0;32m~/opt/anaconda3/envs/opensoundscape060/lib/python3.7/site-packages/scipy/signal/spectral.py\u001b[0m in \u001b[0;36m_spectral_helper\u001b[0;34m(x, y, fs, window, nperseg, noverlap, nfft, detrend, return_onesided, scaling, axis, mode, boundary, padded)\u001b[0m\n\u001b[1;32m   1855\u001b[0m         \u001b[0mtime\u001b[0m \u001b[0;34m-=\u001b[0m \u001b[0;34m(\u001b[0m\u001b[0mnperseg\u001b[0m\u001b[0;34m/\u001b[0m\u001b[0;36m2\u001b[0m\u001b[0;34m)\u001b[0m \u001b[0;34m/\u001b[0m \u001b[0mfs\u001b[0m\u001b[0;34m\u001b[0m\u001b[0;34m\u001b[0m\u001b[0m\n\u001b[1;32m   1856\u001b[0m \u001b[0;34m\u001b[0m\u001b[0m\n\u001b[0;32m-> 1857\u001b[0;31m     \u001b[0mresult\u001b[0m \u001b[0;34m=\u001b[0m \u001b[0mresult\u001b[0m\u001b[0;34m.\u001b[0m\u001b[0mastype\u001b[0m\u001b[0;34m(\u001b[0m\u001b[0moutdtype\u001b[0m\u001b[0;34m)\u001b[0m\u001b[0;34m\u001b[0m\u001b[0;34m\u001b[0m\u001b[0m\n\u001b[0m\u001b[1;32m   1858\u001b[0m \u001b[0;34m\u001b[0m\u001b[0m\n\u001b[1;32m   1859\u001b[0m     \u001b[0;31m# All imaginary parts are zero anyways\u001b[0m\u001b[0;34m\u001b[0m\u001b[0;34m\u001b[0m\u001b[0;34m\u001b[0m\u001b[0m\n",
      "\u001b[0;31mKeyboardInterrupt\u001b[0m: "
     ]
    }
   ],
   "source": [
    "warnings.filterwarnings(\"ignore\")\n",
    "\n",
    "#took about 35  min for one pond, one year\n",
    "all_years = [str(x) for x in range(2015, 2016)] # choose years to analyze \n",
    "all_ponds = [\"1a\"]#[\"1a\", \"2a\", \"3a\", \"4a\", \"5a\", \"6a\", \"7a\", \"8a\", \"9a\", \"10a\"] # choose pond number to analyze \n",
    "all_data = list() # setup variable to save RIBBIT scores \n",
    "\n",
    "# set up a dataframe for storing files' scores and labels\n",
    "for i in range(0, len(all_years)):\n",
    "    pond_data = list() \n",
    "    for j in range(0, len(all_ponds)):\n",
    "        \n",
    "        # folder name where data is stored\n",
    "        folder = '/Volumes/Expansion/Frog Call Project/Calling Data/Frog Calls/ichaway_' + all_years[i] + '/' + all_ponds[j] + '/*'\n",
    "        \n",
    "        # name for csv file to save RIBBIT scores  \n",
    "        csv_file_name = './ribbit_scores/' + 'ichaway_'+ all_ponds[j] + '_' + all_years[i] + '_ribbit_scores.csv'\n",
    "\n",
    "        \n",
    "        df = pd.DataFrame(index = glob(folder),columns=['score', 'year', 'pond']) # create dataframe for year i, pond j\n",
    "        df['year'] = all_years[i] # automatically label year for these files\n",
    "        df['pond'] = all_ponds[j] # automatically label pond for these files\n",
    "\n",
    "        start_time = datetime.now() # track how long the model takes\n",
    "        checkpoint = 0; # create checkpoint for saving RIBBIT scores periodically \n",
    "        \n",
    "        # for every data file for year i, pond j... calculate RIBBIT score \n",
    "        run_ribbit_for_indices(df)\n",
    "        \n",
    "        #print(\"Files sorted by score, from highest to lowest:\")\n",
    "        df.sort_values(by='score',ascending=False)\n",
    "        pond_data.append(df) # add year i to the pond_data\n",
    "        \n",
    "    all_data.append(pond_data) # add pond j to all_data \n",
    "    \n",
    "    \n",
    "# all_data is a list object - this translates it into a single datafraome\n",
    "temp_list = []\n",
    "for i in range(0,len(all_data)):\n",
    "    temp_df = pd.concat(all_data[i], axis=0, ignore_index=False) # translates list into dataframe \n",
    "    temp_list.append(temp_df)\n",
    "    \n",
    "all_data_df = pd.concat(temp_list, axis=0, ignore_index=False) # translates list into dataframe \n",
    "all_data_df\n",
    "all_data_df.to_csv('./ribbit_scores/ichaway_all_files_ribbit_scores.csv') # save all_data_df to csv\n",
    "\n",
    "    \n"
   ]
  },
  {
   "cell_type": "code",
   "execution_count": null,
   "metadata": {},
   "outputs": [],
   "source": []
  }
 ],
 "metadata": {
  "kernelspec": {
   "display_name": "OpenSoundscape060",
   "language": "python",
   "name": "opensoundscape060"
  },
  "language_info": {
   "codemirror_mode": {
    "name": "ipython",
    "version": 3
   },
   "file_extension": ".py",
   "mimetype": "text/x-python",
   "name": "python",
   "nbconvert_exporter": "python",
   "pygments_lexer": "ipython3",
   "version": "3.7.11"
  }
 },
 "nbformat": 4,
 "nbformat_minor": 4
}
