{
 "cells": [
  {
   "cell_type": "markdown",
   "metadata": {},
   "source": [
    "# setup"
   ]
  },
  {
   "cell_type": "code",
   "execution_count": null,
   "metadata": {},
   "outputs": [],
   "source": [
    "# suppress warnings\n",
    "import warnings\n",
    "warnings.simplefilter('ignore')\n",
    "\n",
    "#import packages\n",
    "import numpy as np\n",
    "from glob import glob\n",
    "import pandas as pd\n",
    "from matplotlib import pyplot as plt\n",
    "import subprocess\n",
    "from datetime import datetime\n",
    "\n",
    "\n",
    "#local imports from opensoundscape\n",
    "from opensoundscape.audio import Audio\n",
    "from opensoundscape.spectrogram import Spectrogram\n",
    "from opensoundscape.ribbit import ribbit\n",
    "\n",
    "# create big visuals\n",
    "plt.rcParams['figure.figsize']=[15,8]\n",
    "pd.set_option('display.precision', 2)"
   ]
  },
  {
   "cell_type": "markdown",
   "metadata": {},
   "source": [
    "# read in RIBBIT scores and basic cleaning "
   ]
  },
  {
   "cell_type": "code",
   "execution_count": 31,
   "metadata": {},
   "outputs": [
    {
     "data": {
      "text/html": [
       "<div>\n",
       "<style scoped>\n",
       "    .dataframe tbody tr th:only-of-type {\n",
       "        vertical-align: middle;\n",
       "    }\n",
       "\n",
       "    .dataframe tbody tr th {\n",
       "        vertical-align: top;\n",
       "    }\n",
       "\n",
       "    .dataframe thead th {\n",
       "        text-align: right;\n",
       "    }\n",
       "</style>\n",
       "<table border=\"1\" class=\"dataframe\">\n",
       "  <thead>\n",
       "    <tr style=\"text-align: right;\">\n",
       "      <th></th>\n",
       "      <th>file_path</th>\n",
       "      <th>score</th>\n",
       "      <th>time_stamp</th>\n",
       "    </tr>\n",
       "  </thead>\n",
       "  <tbody>\n",
       "    <tr>\n",
       "      <th>0</th>\n",
       "      <td>/Volumes/Expansion/Frog Call Project/Calling D...</td>\n",
       "      <td>152.62</td>\n",
       "      <td>170.5</td>\n",
       "    </tr>\n",
       "    <tr>\n",
       "      <th>1</th>\n",
       "      <td>/Volumes/Expansion/Frog Call Project/Calling D...</td>\n",
       "      <td>134.04</td>\n",
       "      <td>242.5</td>\n",
       "    </tr>\n",
       "    <tr>\n",
       "      <th>2</th>\n",
       "      <td>/Volumes/Expansion/Frog Call Project/Calling D...</td>\n",
       "      <td>113.83</td>\n",
       "      <td>176.5</td>\n",
       "    </tr>\n",
       "    <tr>\n",
       "      <th>3</th>\n",
       "      <td>/Volumes/Expansion/Frog Call Project/Calling D...</td>\n",
       "      <td>98.98</td>\n",
       "      <td>87.5</td>\n",
       "    </tr>\n",
       "    <tr>\n",
       "      <th>4</th>\n",
       "      <td>/Volumes/Expansion/Frog Call Project/Calling D...</td>\n",
       "      <td>98.95</td>\n",
       "      <td>216.5</td>\n",
       "    </tr>\n",
       "    <tr>\n",
       "      <th>...</th>\n",
       "      <td>...</td>\n",
       "      <td>...</td>\n",
       "      <td>...</td>\n",
       "    </tr>\n",
       "    <tr>\n",
       "      <th>32644</th>\n",
       "      <td>/Volumes/Expansion/Frog Call Project/Calling D...</td>\n",
       "      <td>27.57</td>\n",
       "      <td>220.5</td>\n",
       "    </tr>\n",
       "    <tr>\n",
       "      <th>32645</th>\n",
       "      <td>/Volumes/Expansion/Frog Call Project/Calling D...</td>\n",
       "      <td>26.95</td>\n",
       "      <td>35.5</td>\n",
       "    </tr>\n",
       "    <tr>\n",
       "      <th>32646</th>\n",
       "      <td>/Volumes/Expansion/Frog Call Project/Calling D...</td>\n",
       "      <td>26.55</td>\n",
       "      <td>24.5</td>\n",
       "    </tr>\n",
       "    <tr>\n",
       "      <th>32647</th>\n",
       "      <td>/Volumes/Expansion/Frog Call Project/Calling D...</td>\n",
       "      <td>26.05</td>\n",
       "      <td>48.0</td>\n",
       "    </tr>\n",
       "    <tr>\n",
       "      <th>32648</th>\n",
       "      <td>/Volumes/Expansion/Frog Call Project/Calling D...</td>\n",
       "      <td>25.74</td>\n",
       "      <td>104.0</td>\n",
       "    </tr>\n",
       "  </tbody>\n",
       "</table>\n",
       "<p>32649 rows × 3 columns</p>\n",
       "</div>"
      ],
      "text/plain": [
       "                                               file_path   score  time_stamp\n",
       "0      /Volumes/Expansion/Frog Call Project/Calling D...  152.62       170.5\n",
       "1      /Volumes/Expansion/Frog Call Project/Calling D...  134.04       242.5\n",
       "2      /Volumes/Expansion/Frog Call Project/Calling D...  113.83       176.5\n",
       "3      /Volumes/Expansion/Frog Call Project/Calling D...   98.98        87.5\n",
       "4      /Volumes/Expansion/Frog Call Project/Calling D...   98.95       216.5\n",
       "...                                                  ...     ...         ...\n",
       "32644  /Volumes/Expansion/Frog Call Project/Calling D...   27.57       220.5\n",
       "32645  /Volumes/Expansion/Frog Call Project/Calling D...   26.95        35.5\n",
       "32646  /Volumes/Expansion/Frog Call Project/Calling D...   26.55        24.5\n",
       "32647  /Volumes/Expansion/Frog Call Project/Calling D...   26.05        48.0\n",
       "32648  /Volumes/Expansion/Frog Call Project/Calling D...   25.74       104.0\n",
       "\n",
       "[32649 rows x 3 columns]"
      ]
     },
     "execution_count": 31,
     "metadata": {},
     "output_type": "execute_result"
    }
   ],
   "source": [
    "# folder with ribbit scores of interest\n",
    "ribbit_folder = \"ribbit_scores_2020_01_20\"\n",
    "\n",
    "#creates list of all cdv ribbit files to concatonate into one df of all ribbit scores\n",
    "all_files = glob(ribbit_folder + \"/*.csv\")\n",
    "ribbit_list = []\n",
    "\n",
    "# reads in all ribbit scores to csv \n",
    "for filename in all_files: \n",
    "    df = pd.read_csv(\"./\" + filename)\n",
    "    ribbit_list.append(df)\n",
    "    \n",
    "ribbit_scores_df = pd.concat(ribbit_list, axis=0, ignore_index=True) # translates list into dataframe \n",
    "\n",
    "# rename file_path column; drop empty \"label\" column if exists (preemptively got rid of this column in future iterations of running ribbit)\n",
    "ribbit_scores_df = ribbit_scores_df.rename(columns={\"Unnamed: 0\" : \"file_path\"}).drop(\"label\", axis=1, errors = \"ignore\")\n",
    "ribbit_scores_df"
   ]
  },
  {
   "cell_type": "code",
   "execution_count": 26,
   "metadata": {},
   "outputs": [
    {
     "name": "stdout",
     "output_type": "stream",
     "text": [
      "/Volumes/Expansion/Frog Call Project/Calling Data/Frog Calls/FLSHE_2018/FLSHE_2018_400/TEST_0+1_20180216_232400.wav\n"
     ]
    }
   ],
   "source": [
    "test_file = ribbit_scores_df.iloc[0,0]\n",
    "print(test_file)"
   ]
  },
  {
   "cell_type": "code",
   "execution_count": 36,
   "metadata": {},
   "outputs": [
    {
     "name": "stdout",
     "output_type": "stream",
     "text": [
      "['ribbit_scores_2020_01_20/flshe_400_2018_ribbit_scores.csv', 'ribbit_scores_2020_01_20/flshe_398_2018_ribbit_scores.csv', 'ribbit_scores_2020_01_20/flshe_403_2019_ribbit_scores.csv', 'ribbit_scores_2020_01_20/flshe_400_2019_ribbit_scores.csv', 'ribbit_scores_2020_01_20/flshe_398_2019_ribbit_scores.csv', 'ribbit_scores_2020_01_20/flshe_403_2018_ribbit_scores.csv', 'ribbit_scores_2020_01_20/flshe_402_2018_ribbit_scores.csv', 'ribbit_scores_2020_01_20/flshe_399_2019_ribbit_scores.csv', 'ribbit_scores_2020_01_20/flshe_401_2019_ribbit_scores.csv', 'ribbit_scores_2020_01_20/flshe_402_2019_ribbit_scores.csv', 'ribbit_scores_2020_01_20/flshe_399_2018_ribbit_scores.csv', 'ribbit_scores_2020_01_20/flshe_401_2018_ribbit_scores.csv', 'ribbit_scores_2020_01_20/flshe_399_2020_ribbit_scores.csv', 'ribbit_scores_2020_01_20/flshe_402_2021_ribbit_scores.csv', 'ribbit_scores_2020_01_20/flshe_400_2017_ribbit_scores.csv', 'ribbit_scores_2020_01_20/flshe_398_2017_ribbit_scores.csv', 'ribbit_scores_2020_01_20/flshe_401_2020_ribbit_scores.csv', 'ribbit_scores_2020_01_20/flshe_399_2021_ribbit_scores.csv', 'ribbit_scores_2020_01_20/flshe_402_2020_ribbit_scores.csv', 'ribbit_scores_2020_01_20/flshe_403_2017_ribbit_scores.csv', 'ribbit_scores_2020_01_20/flshe_401_2021_ribbit_scores.csv', 'ribbit_scores_2020_01_20/flshe_402_2017_ribbit_scores.csv', 'ribbit_scores_2020_01_20/flshe_400_2021_ribbit_scores.csv', 'ribbit_scores_2020_01_20/flshe_403_2020_ribbit_scores.csv', 'ribbit_scores_2020_01_20/flshe_398_2021_ribbit_scores.csv', 'ribbit_scores_2020_01_20/flshe_400_2020_ribbit_scores.csv', 'ribbit_scores_2020_01_20/flshe_399_2017_ribbit_scores.csv', 'ribbit_scores_2020_01_20/flshe_403_2021_ribbit_scores.csv', 'ribbit_scores_2020_01_20/flshe_401_2017_ribbit_scores.csv', 'ribbit_scores_2020_01_20/flshe_398_2020_ribbit_scores.csv']\n"
     ]
    }
   ],
   "source": [
    "all_files = glob(ribbit_folder + \"/*.csv\")\n",
    "\n",
    "print(all_files)"
   ]
  },
  {
   "cell_type": "code",
   "execution_count": null,
   "metadata": {},
   "outputs": [],
   "source": [
    "temp_df = pd.read_csv(all_files[0])"
   ]
  }
 ],
 "metadata": {
  "kernelspec": {
   "display_name": "OpenSoundscape060",
   "language": "python",
   "name": "opensoundscape060"
  },
  "language_info": {
   "codemirror_mode": {
    "name": "ipython",
    "version": 3
   },
   "file_extension": ".py",
   "mimetype": "text/x-python",
   "name": "python",
   "nbconvert_exporter": "python",
   "pygments_lexer": "ipython3",
   "version": "3.7.11"
  }
 },
 "nbformat": 4,
 "nbformat_minor": 4
}
