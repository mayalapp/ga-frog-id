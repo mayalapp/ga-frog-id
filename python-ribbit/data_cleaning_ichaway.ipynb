{
 "cells": [
  {
   "cell_type": "markdown",
   "metadata": {},
   "source": [
    "# Setup"
   ]
  },
  {
   "cell_type": "code",
   "execution_count": 61,
   "metadata": {},
   "outputs": [],
   "source": [
    "# run the file setup_functions.ipynb to define setting, import packages, and define functions \n",
    "%run ./setup_functions.ipynb"
   ]
  },
  {
   "cell_type": "markdown",
   "metadata": {},
   "source": [
    "## Organize csv files with verified data and ribbit data "
   ]
  },
  {
   "cell_type": "markdown",
   "metadata": {},
   "source": [
    "### Combine multiple ribbit score csv files "
   ]
  },
  {
   "cell_type": "code",
   "execution_count": 5,
   "metadata": {},
   "outputs": [],
   "source": [
    "# Only need to run if you need to combine ribbit scores from multiple csv files  \n",
    "# Useful if you broke up a model run into section to run it faster \n",
    "# WARNING: if delete_files = True this will delete individual files after combining them\n",
    "# keep next 2 lines commented out unless running this chunk to avoid deleting files unintentionally \n",
    "\n",
    "# folder_path = \"./ribbit_scores_ich_20221206/\" #*# path to folder containing the csv files you want to combine \n",
    "# rs_ich = combine_csvs(folder_path, new_csv_name = \"ribbit_scores_combined.csv\", delete_files = True)\n"
   ]
  },
  {
   "cell_type": "markdown",
   "metadata": {},
   "source": [
    "### Combine multiple csv files with manually verified data "
   ]
  },
  {
   "cell_type": "code",
   "execution_count": null,
   "metadata": {},
   "outputs": [],
   "source": [
    "# Only run this once! if you need to combine manually verified data files \n",
    "# Data must have the following columns: \"Site\", \"Logger\", \"Sample Date\", \"Species\", \"NAAMP\", \"File ID\"\n",
    "# folder_path = \"../manually_verified_data/ichaway_verified_data/\"\n",
    "# raw_ich = combine_csvs(folder_path, new_csv_name = \"ichaway_verified_data.csv\")"
   ]
  },
  {
   "cell_type": "markdown",
   "metadata": {},
   "source": [
    "# Import and clean data\n",
    "### Define file and folder paths for data import and cleaning "
   ]
  },
  {
   "cell_type": "code",
   "execution_count": 25,
   "metadata": {},
   "outputs": [],
   "source": [
    "# file path to csv file with ribbit scores \n",
    "ribbit_scores_fp = \"./ribbit_scores_ich_20221206/ribbit_scores_combined.csv\" #*#\n",
    "\n",
    "# file path to csv file with manually verified data \n",
    "verified_data_fp = \"../manually_verified_data/ichaway_verified_data/ichaway_verified_data.csv\" #*#\n",
    "\n",
    "# path to folder containing audio files \n",
    "audio_files_fp = '/Volumes/Expansion/Frog Call Project/Calling Data/ichaway/' #*#\n",
    "# Note: if the folders within this folder are structured differently, you may need to edit the full file paths in the \n",
    "#       data cleaning section below (inicated with #*#)\n"
   ]
  },
  {
   "cell_type": "markdown",
   "metadata": {},
   "source": [
    "### Import and clean ribbit score data "
   ]
  },
  {
   "cell_type": "code",
   "execution_count": 26,
   "metadata": {},
   "outputs": [],
   "source": [
    "# Import ribbit scores based on ribbit_scores_fp\n",
    "rs_ich = pd.read_csv(ribbit_scores_fp, index_col = 0)\n",
    "\n",
    "# extract date from file path \n",
    "rs_ich['date'] = pd.to_datetime(rs_ich.index.str[-19:-4], format='%Y%m%d_%H%M%S', errors='coerce') \n"
   ]
  },
  {
   "cell_type": "markdown",
   "metadata": {},
   "source": [
    "### Import and clean manually verfied data "
   ]
  },
  {
   "cell_type": "code",
   "execution_count": 27,
   "metadata": {},
   "outputs": [],
   "source": [
    "# import manually verified data\n",
    "raw_ich = pd.read_csv(verified_data_fp)[[\"Site\", \"Logger\", \"Sample Date\", \"Species\", \"NAAMP\", \"File ID\", \"Start Date\"]]\n",
    "\n",
    "# rename columns for convenience\n",
    "raw_ich = raw_ich.rename(columns = {\"Site\":\"site\", \"Logger\":\"logger\", \"Sample Date\":\"date\", \"Species\":\"species\", \"File ID\":\"file_name\", \"Start Date\":\"folder_date\"})\n",
    "\n",
    "# create year column based on date string\n",
    "raw_ich['year'] = raw_ich.date.astype(str).str[-4:]\n",
    "raw_ich.astype({\"year\":\"int\"})\n",
    "\n",
    "\n",
    "# create full file path from file names andd logger numbers \n",
    "raw_ich['folder_date'] = pd.to_datetime(raw_ich['folder_date'], format='%m/%d/%Y').dt.strftime('%-m-%-d-%y')\n",
    "raw_ich['file_path'] = audio_files_fp + 'ichaway_' + raw_ich['year'].astype('string') + '/' + raw_ich['logger'].astype('string') + 'a/' + raw_ich['folder_date'] + '/' + raw_ich['file_name'] + '.wav' #*#\n",
    "# set file path as index \n",
    "raw_ich = raw_ich.set_index('file_path')\n",
    "\n",
    "# identify which rows are Lcapito observations \n",
    "raw_ich['Lcapito'] = raw_ich['species'] == 'LICAP'\n",
    "raw_ich['Lcapito'] = raw_ich['Lcapito'].astype('category')\n",
    "\n",
    "# create \"verified_ich\" dataframe with one row per file with a column (Lcapito) with 1 if the file has a Lcapito and 0 if it does not\n",
    "verified_ich = raw_ich.sort_values([\"file_path\", \"Lcapito\"], ascending = False).groupby('file_path').head(1) \n",
    "\n",
    "# these files were labeled incorrectly in the ichaway data - there are gopher frogs in them \n",
    "# logger 5a: \n",
    "#20150205_194700\n",
    "#20150205_204700\n",
    "#20150205_214700\n",
    "\n",
    "# fix these mistakes\n",
    "temp = audio_files_fp + 'ichaway_2015/5a/2-2-15/20150205_'\n",
    "incorrect_files =  [temp + '194700.wav', temp + '204700.wav', temp + '214700.wav']\n",
    "verified_ich.loc[verified_ich.index.isin(incorrect_files),'Lcapito'] = True\n",
    "\n",
    "\n"
   ]
  },
  {
   "cell_type": "markdown",
   "metadata": {},
   "source": [
    "### Merge ribbit data and verified data  "
   ]
  },
  {
   "cell_type": "code",
   "execution_count": 28,
   "metadata": {},
   "outputs": [],
   "source": [
    "# merge option 1 \n",
    "\n",
    "# merge with ribbit scores based on file path\n",
    "# this drops some files where the file path minutes don't match between the rs_ich and verified_ich\n",
    "verified_ich = verified_ich.drop(columns = [\"year\", \"date\", \"logger\"]).merge(rs_ich, left_index = True, right_index = True)\n",
    "verified_ich = verified_ich.dropna(subset=['Lcapito']) # drop any rows with \"NaN\" for Lcapito - if data was entered incorrectly, empty, etc. \n"
   ]
  },
  {
   "cell_type": "code",
   "execution_count": 16,
   "metadata": {},
   "outputs": [],
   "source": [
    "# merge option 2 - better but more likely to cause problems \n",
    "\n",
    "# merge with ribbit scores based on hour of file path (ignore minutes - these sometimes don't match for some reason)\n",
    "# still drops some files but not as many \n",
    "# warning: potential to match incorrect files (e.g. if one file is labeled 10:01 and another 10:58)\n",
    "#rs_ich[\"fp_shortened\"] = rs_ich.index.str[:-8]\n",
    "#verified_ich[\"fp_shortened\"] = verified_ich.index.str[:-8]\n",
    "#verified_ich = verified_ich.drop(columns = [\"year\", \"date\", \"logger\"]).merge(rs_ich, left_on = \"fp_shortened\", right_on = \"fp_shortened\")\n",
    "#verified_ich = verified_ich.dropna(subset=['Lcapito']).drop(columns = [\"fp_shortened\"]) # drop any rows with \"NaN\" for Lcapito - if data was entered incorrectly, empty, etc. \n",
    "\n",
    "### TODO:  still losing some files after merging using this option - why?\n",
    "\n"
   ]
  },
  {
   "cell_type": "markdown",
   "metadata": {},
   "source": [
    "## Using `get_top_rs()`"
   ]
  },
  {
   "cell_type": "markdown",
   "metadata": {},
   "source": [
    "### Function definition"
   ]
  },
  {
   "cell_type": "markdown",
   "metadata": {},
   "source": [
    "`def get_top_rs(df, n = 5, min_score = 0.0, t_unit = \"Y\", \\\n",
    "               group_col = 'no_groups', groups = [\"0\"], \\\n",
    "               score_col = \"score\", time_stamp_col = \"time_stamp\", \\\n",
    "               save_csv = False):`\n",
    "\n",
    "**Purpose:** get list of audio files with top ribbit scores for certain criterion\n",
    "\n",
    "**Input:** \n",
    "* `df` - data frame with ribbit scores \n",
    "* `n` - number of files per group (e.g. n = 5 gets top 5 ribbit scores per group)\n",
    "* `min_score` - minimum ribbit score needed for file to be included \n",
    "      (e.g. if you want all files above a ribbit score of 50, you could have min_score = 50 and n = 999999999999)\n",
    "* `t_unit` - unit for how often we want the top scores (options: D, W, M, Y, Q - day, week, month, year, quarter year)\n",
    "* `group_col` - the name of the column with the labels grouping our files \n",
    "      (e.g. \"pond\" for sandhills or \"site\" for ichaway wetlands)\n",
    "* `groups` - list of the groupings \n",
    "      (e.g. for sandhills the pond numbers [398, 399, 400, 401, 402, 403]; for ichaway would be the wetlands' names)\n",
    "* `score_col` - column name where ribbit score is stored \n",
    "* `time_stamp_col` - column name where time stamp for ribbit score is stored\n",
    "* `save_csv` - False if we do not want to save our output to a csv. Otherwise string of the file path where we want to save the csv file \n",
    "      (e.g. \"./ribbit_scores/top_ribbit_scores_per_year.csv\")\n",
    "\n",
    "**Out:**\n",
    "dataframe with top `n` files with ribbit score over `min_score` for each `groups` for every `t_unit` \n",
    "       "
   ]
  },
  {
   "cell_type": "markdown",
   "metadata": {},
   "source": [
    "### Example"
   ]
  },
  {
   "cell_type": "code",
   "execution_count": 66,
   "metadata": {},
   "outputs": [
    {
     "data": {
      "text/html": [
       "<div>\n",
       "<style scoped>\n",
       "    .dataframe tbody tr th:only-of-type {\n",
       "        vertical-align: middle;\n",
       "    }\n",
       "\n",
       "    .dataframe tbody tr th {\n",
       "        vertical-align: top;\n",
       "    }\n",
       "\n",
       "    .dataframe thead th {\n",
       "        text-align: right;\n",
       "    }\n",
       "</style>\n",
       "<table border=\"1\" class=\"dataframe\">\n",
       "  <thead>\n",
       "    <tr style=\"text-align: right;\">\n",
       "      <th></th>\n",
       "      <th>logger</th>\n",
       "      <th>date_group</th>\n",
       "      <th>score</th>\n",
       "      <th>time_stamp</th>\n",
       "      <th>year</th>\n",
       "      <th>date</th>\n",
       "    </tr>\n",
       "  </thead>\n",
       "  <tbody>\n",
       "    <tr>\n",
       "      <th>/Volumes/Expansion/Frog Call Project/Calling Data/ichaway/ichaway_2014/1a/4-21-14/20140423_224200.wav</th>\n",
       "      <td>1a</td>\n",
       "      <td>2014</td>\n",
       "      <td>188.58</td>\n",
       "      <td>285.0</td>\n",
       "      <td>2014</td>\n",
       "      <td>2014-04-23 22:42:00</td>\n",
       "    </tr>\n",
       "    <tr>\n",
       "      <th>/Volumes/Expansion/Frog Call Project/Calling Data/ichaway/ichaway_2015/1a/2-23-15/20150223_230100.wav</th>\n",
       "      <td>1a</td>\n",
       "      <td>2015</td>\n",
       "      <td>108.08</td>\n",
       "      <td>85.5</td>\n",
       "      <td>2015</td>\n",
       "      <td>2015-02-23 23:01:00</td>\n",
       "    </tr>\n",
       "    <tr>\n",
       "      <th>/Volumes/Expansion/Frog Call Project/Calling Data/ichaway/ichaway_2014/5a/4-21-14/20140423_004100.wav</th>\n",
       "      <td>5a</td>\n",
       "      <td>2014</td>\n",
       "      <td>182.29</td>\n",
       "      <td>70.0</td>\n",
       "      <td>2014</td>\n",
       "      <td>2014-04-23 00:41:00</td>\n",
       "    </tr>\n",
       "    <tr>\n",
       "      <th>/Volumes/Expansion/Frog Call Project/Calling Data/ichaway/ichaway_2015/5a/2-2-15/20150203_194500.wav</th>\n",
       "      <td>5a</td>\n",
       "      <td>2015</td>\n",
       "      <td>576.51</td>\n",
       "      <td>195.5</td>\n",
       "      <td>2015</td>\n",
       "      <td>2015-02-03 19:45:00</td>\n",
       "    </tr>\n",
       "    <tr>\n",
       "      <th>/Volumes/Expansion/Frog Call Project/Calling Data/ichaway/ichaway_2014/7a/4-21-14/20140424_234200.wav</th>\n",
       "      <td>7a</td>\n",
       "      <td>2014</td>\n",
       "      <td>184.17</td>\n",
       "      <td>205.0</td>\n",
       "      <td>2014</td>\n",
       "      <td>2014-04-24 23:42:00</td>\n",
       "    </tr>\n",
       "    <tr>\n",
       "      <th>/Volumes/Expansion/Frog Call Project/Calling Data/ichaway/ichaway_2015/7a/3-12-15/20150314_231500.wav</th>\n",
       "      <td>7a</td>\n",
       "      <td>2015</td>\n",
       "      <td>260.08</td>\n",
       "      <td>286.5</td>\n",
       "      <td>2015</td>\n",
       "      <td>2015-03-14 23:15:00</td>\n",
       "    </tr>\n",
       "  </tbody>\n",
       "</table>\n",
       "</div>"
      ],
      "text/plain": [
       "                                                                                                      logger  \\\n",
       "/Volumes/Expansion/Frog Call Project/Calling Data/ichaway/ichaway_2014/1a/4-21-14/20140423_224200.wav     1a   \n",
       "/Volumes/Expansion/Frog Call Project/Calling Data/ichaway/ichaway_2015/1a/2-23-15/20150223_230100.wav     1a   \n",
       "/Volumes/Expansion/Frog Call Project/Calling Data/ichaway/ichaway_2014/5a/4-21-14/20140423_004100.wav     5a   \n",
       "/Volumes/Expansion/Frog Call Project/Calling Data/ichaway/ichaway_2015/5a/2-2-15/20150203_194500.wav      5a   \n",
       "/Volumes/Expansion/Frog Call Project/Calling Data/ichaway/ichaway_2014/7a/4-21-14/20140424_234200.wav     7a   \n",
       "/Volumes/Expansion/Frog Call Project/Calling Data/ichaway/ichaway_2015/7a/3-12-15/20150314_231500.wav     7a   \n",
       "\n",
       "                                                                                                      date_group  \\\n",
       "/Volumes/Expansion/Frog Call Project/Calling Data/ichaway/ichaway_2014/1a/4-21-14/20140423_224200.wav       2014   \n",
       "/Volumes/Expansion/Frog Call Project/Calling Data/ichaway/ichaway_2015/1a/2-23-15/20150223_230100.wav       2015   \n",
       "/Volumes/Expansion/Frog Call Project/Calling Data/ichaway/ichaway_2014/5a/4-21-14/20140423_004100.wav       2014   \n",
       "/Volumes/Expansion/Frog Call Project/Calling Data/ichaway/ichaway_2015/5a/2-2-15/20150203_194500.wav        2015   \n",
       "/Volumes/Expansion/Frog Call Project/Calling Data/ichaway/ichaway_2014/7a/4-21-14/20140424_234200.wav       2014   \n",
       "/Volumes/Expansion/Frog Call Project/Calling Data/ichaway/ichaway_2015/7a/3-12-15/20150314_231500.wav       2015   \n",
       "\n",
       "                                                                                                        score  \\\n",
       "/Volumes/Expansion/Frog Call Project/Calling Data/ichaway/ichaway_2014/1a/4-21-14/20140423_224200.wav  188.58   \n",
       "/Volumes/Expansion/Frog Call Project/Calling Data/ichaway/ichaway_2015/1a/2-23-15/20150223_230100.wav  108.08   \n",
       "/Volumes/Expansion/Frog Call Project/Calling Data/ichaway/ichaway_2014/5a/4-21-14/20140423_004100.wav  182.29   \n",
       "/Volumes/Expansion/Frog Call Project/Calling Data/ichaway/ichaway_2015/5a/2-2-15/20150203_194500.wav   576.51   \n",
       "/Volumes/Expansion/Frog Call Project/Calling Data/ichaway/ichaway_2014/7a/4-21-14/20140424_234200.wav  184.17   \n",
       "/Volumes/Expansion/Frog Call Project/Calling Data/ichaway/ichaway_2015/7a/3-12-15/20150314_231500.wav  260.08   \n",
       "\n",
       "                                                                                                       time_stamp  \\\n",
       "/Volumes/Expansion/Frog Call Project/Calling Data/ichaway/ichaway_2014/1a/4-21-14/20140423_224200.wav       285.0   \n",
       "/Volumes/Expansion/Frog Call Project/Calling Data/ichaway/ichaway_2015/1a/2-23-15/20150223_230100.wav        85.5   \n",
       "/Volumes/Expansion/Frog Call Project/Calling Data/ichaway/ichaway_2014/5a/4-21-14/20140423_004100.wav        70.0   \n",
       "/Volumes/Expansion/Frog Call Project/Calling Data/ichaway/ichaway_2015/5a/2-2-15/20150203_194500.wav        195.5   \n",
       "/Volumes/Expansion/Frog Call Project/Calling Data/ichaway/ichaway_2014/7a/4-21-14/20140424_234200.wav       205.0   \n",
       "/Volumes/Expansion/Frog Call Project/Calling Data/ichaway/ichaway_2015/7a/3-12-15/20150314_231500.wav       286.5   \n",
       "\n",
       "                                                                                                       year  \\\n",
       "/Volumes/Expansion/Frog Call Project/Calling Data/ichaway/ichaway_2014/1a/4-21-14/20140423_224200.wav  2014   \n",
       "/Volumes/Expansion/Frog Call Project/Calling Data/ichaway/ichaway_2015/1a/2-23-15/20150223_230100.wav  2015   \n",
       "/Volumes/Expansion/Frog Call Project/Calling Data/ichaway/ichaway_2014/5a/4-21-14/20140423_004100.wav  2014   \n",
       "/Volumes/Expansion/Frog Call Project/Calling Data/ichaway/ichaway_2015/5a/2-2-15/20150203_194500.wav   2015   \n",
       "/Volumes/Expansion/Frog Call Project/Calling Data/ichaway/ichaway_2014/7a/4-21-14/20140424_234200.wav  2014   \n",
       "/Volumes/Expansion/Frog Call Project/Calling Data/ichaway/ichaway_2015/7a/3-12-15/20150314_231500.wav  2015   \n",
       "\n",
       "                                                                                                                     date  \n",
       "/Volumes/Expansion/Frog Call Project/Calling Data/ichaway/ichaway_2014/1a/4-21-14/20140423_224200.wav 2014-04-23 22:42:00  \n",
       "/Volumes/Expansion/Frog Call Project/Calling Data/ichaway/ichaway_2015/1a/2-23-15/20150223_230100.wav 2015-02-23 23:01:00  \n",
       "/Volumes/Expansion/Frog Call Project/Calling Data/ichaway/ichaway_2014/5a/4-21-14/20140423_004100.wav 2014-04-23 00:41:00  \n",
       "/Volumes/Expansion/Frog Call Project/Calling Data/ichaway/ichaway_2015/5a/2-2-15/20150203_194500.wav  2015-02-03 19:45:00  \n",
       "/Volumes/Expansion/Frog Call Project/Calling Data/ichaway/ichaway_2014/7a/4-21-14/20140424_234200.wav 2014-04-24 23:42:00  \n",
       "/Volumes/Expansion/Frog Call Project/Calling Data/ichaway/ichaway_2015/7a/3-12-15/20150314_231500.wav 2015-03-14 23:15:00  "
      ]
     },
     "execution_count": 66,
     "metadata": {},
     "output_type": "execute_result"
    }
   ],
   "source": [
    "# create variable of all ichaway wetlands that had audio loggers \n",
    "ichaway_wetlands = verified_ich['site'].unique()\n",
    "\n",
    "# Get top 3 audio files for each wetland and save it to a csv file\n",
    "temp = get_top_rs(verified_ich, n = 3, group_col = 'site', groups = ichaway_wetlands, save_csv = \"./example_top_rs_ichaway.csv\")\n",
    "\n",
    "# Get top 1 audio files for 3 loggers for each year and save it to a csv file - using data that is not manually verified\n",
    "loggers = ['1a', '5a', '7a']\n",
    "temp = get_top_rs(rs_ich, n = 1, t_unit = 'Y', group_col = 'logger', groups = loggers, save_csv = \"./example_top_rs_ichaway.csv\")\n",
    "temp\n",
    "\n"
   ]
  },
  {
   "cell_type": "code",
   "execution_count": null,
   "metadata": {},
   "outputs": [],
   "source": []
  },
  {
   "cell_type": "code",
   "execution_count": null,
   "metadata": {},
   "outputs": [],
   "source": []
  }
 ],
 "metadata": {
  "kernelspec": {
   "display_name": "OpenSoundscape060",
   "language": "python",
   "name": "opensoundscape060"
  },
  "language_info": {
   "codemirror_mode": {
    "name": "ipython",
    "version": 3
   },
   "file_extension": ".py",
   "mimetype": "text/x-python",
   "name": "python",
   "nbconvert_exporter": "python",
   "pygments_lexer": "ipython3",
   "version": "3.7.11"
  }
 },
 "nbformat": 4,
 "nbformat_minor": 4
}
