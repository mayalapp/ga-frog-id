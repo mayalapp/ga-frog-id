{
 "cells": [
  {
   "cell_type": "markdown",
   "metadata": {},
   "source": [
    "## setup"
   ]
  },
  {
   "cell_type": "code",
   "execution_count": 1,
   "metadata": {},
   "outputs": [],
   "source": [
    "# suppress warnings\n",
    "import warnings\n",
    "warnings.simplefilter('ignore')\n",
    "\n",
    "#import packages\n",
    "import numpy as np\n",
    "from glob import glob\n",
    "import pandas as pd\n",
    "from matplotlib import pyplot as plt\n",
    "import subprocess\n",
    "from datetime import datetime\n",
    "\n",
    "\n",
    "#local imports from opensoundscape\n",
    "from opensoundscape.audio import Audio\n",
    "from opensoundscape.spectrogram import Spectrogram\n",
    "from opensoundscape.ribbit import ribbit\n",
    "\n",
    "# create big visuals\n",
    "plt.rcParams['figure.figsize']=[15,8]\n",
    "pd.set_option('display.precision', 2)"
   ]
  },
  {
   "cell_type": "markdown",
   "metadata": {},
   "source": [
    "## read in RIBBIT scores and basic cleaning "
   ]
  },
  {
   "cell_type": "code",
   "execution_count": 160,
   "metadata": {},
   "outputs": [],
   "source": [
    "# folder with ribbit scores of interest\n",
    "ribbit_folder = \"ribbit_scores_2022_01_21\"\n",
    "\n",
    "#creates list of all cdv ribbit files to concatonate into one df of all ribbit scores\n",
    "all_files = glob(ribbit_folder + \"/*.csv\")\n",
    "ribbit_list = []\n",
    "\n",
    "# reads in all ribbit scores to csv \n",
    "for filename in all_files: \n",
    "    df = pd.read_csv(\"./\" + filename)\n",
    "    ribbit_list.append(df)\n",
    "\n",
    "rs_df = pd.DataFrame()\n",
    "rs_df = pd.concat(ribbit_list, axis=0, ignore_index=True) # translates list into dataframe \n",
    "\n",
    "rs_df = rs_df.rename(columns={\"Unnamed: 0\" : \"file_path\"})\n",
    "\n",
    "# use file_path to create column with date and time of file \n",
    "rs_df['date'] = pd.to_datetime(rs_df.file_path.str[-19:-4], format='%Y%m%d_%H%M%S', errors='coerce')\n",
    "\n",
    "# add in manually determined files\n",
    "tr_df = pd.read_csv(\"./training_data.csv\")\n",
    "rs_df = pd.merge(rs_df, tr_df, on=['pond', 'file_path'], how = \"left\")\n",
    "rs_df = rs_df[rs_df.duplicated(subset=None, keep='first')] # remove duplicates #TODO: why duplicates? file with all scores? \n",
    "\n",
    "# todo: add that if file starts with \"Lcapito\", Lcapito = 1"
   ]
  },
  {
   "cell_type": "markdown",
   "metadata": {},
   "source": [
    "## plotting ribbit scores"
   ]
  },
  {
   "cell_type": "code",
   "execution_count": 162,
   "metadata": {},
   "outputs": [],
   "source": [
    "def plot_rs(pond_no = \"all\", year = \"all\"):\n",
    "    \n",
    "    plot_data = rs_df\n",
    "\n",
    "    if pond_no != \"all\":\n",
    "        plot_data = plot_data[plot_data['pond'] == pond_no]\n",
    "\n",
    "    if year != \"all\":\n",
    "        plot_data = plot_data[plot_data['year'] == year]\n",
    "\n",
    "        \n",
    "    \n",
    "    fig, ax = plt.subplots()  # a figure with a single Axes\n",
    "    ax.scatter(plot_data['date'],plot_data['score'])\n",
    "    ax.hlines(y = [40], xmin = plot_data.date.min(), \n",
    "              xmax = plot_data.date.max(),\n",
    "             colors = 'r', linestyles = '--')\n",
    "    ax.set_xlabel('date')\n",
    "    ax.set_ylabel('RIBBIT score') \n",
    "    ax.set_title('RIBBIT scores')\n",
    "    #ax.set_ylim(0,400)\n",
    "    \n",
    "def plot_hist(pond_no = \"all\", year = \"all\"):\n",
    "    \n",
    "    plot_data = rs_df\n",
    "\n",
    "    if pond_no != \"all\":\n",
    "        plot_data = plot_data[plot_data['pond'] == pond_no]\n",
    "\n",
    "    if year != \"all\":\n",
    "        plot_data = plot_data[plot_data['year'] == year]\n",
    "\n",
    "        \n",
    "    \n",
    "    fig, ax = plt.subplots()  # a figure with a single Axes\n",
    "    ax.hist(plot_data['date'], bins = 12*12)\n",
    "    ax.set_xlabel('date')\n",
    "    ax.set_ylabel('Number of files') \n",
    "    ax.set_title('Histogram of data from pond ' + str(pond_no))\n",
    "    #ax.set_ylim(0,400) \n",
    "    \n",
    "\n",
    "# get list of audio files with top ribbit scores\n",
    "#\n",
    "# input: \n",
    "# rs_df - data frame with ribbit scores \n",
    "# ponds - list of ponds to get scores for \n",
    "# t_unit - unit for how often we want the top scores (options: day, week, month, year)\n",
    "# NOT IMPLEMENTED!!! t_n - number for how foten we want the top scores \n",
    "# NOT IMPLEMENTED!!! start - if \"first\", start with the first file, else `start` should be a date \n",
    "# NOT IMPLEMENTED!!! end - if \"last\", end with the last file, else `start` should be a date \n",
    "# (e.g. if n = 5, ponds = range(398, 403), t_unit = week and t_n = 3, we want the top 5 scores for every three weeks for all of the ponds )\n",
    "#\n",
    "# out: \n",
    "# dataframe with top `n` files for `ponds` for every `t_n` `t_unit` beginning with `start` and finishing with `end`\n",
    "def get_top_rs(rs_df, n = 5, ponds = range(398, 403), t_unit = \"year\", t_n = 1, start = \"first\", end = \"last\"):\n",
    "    \n",
    "\n",
    "    if t_unit == \"month\": \n",
    "        rs_df['date_group'] = rs_df['date'].dt.to_period('M') # create a column with the month the file was recorded\n",
    "    \n",
    "    elif t_unit == \"week\":     \n",
    "        rs_df['date_group'] = rs_df['date'].dt.to_period('W') # create a column with the week of the month the file was recorded\n",
    "    \n",
    "    elif t_unit == \"day\":\n",
    "        rs_df['date_group'] = rs_df['date'].dt.to_period('D') # create a column with the day of the month the file was recorded\n",
    "\n",
    "    else: \n",
    "        rs_df['date_group'] = rs_df['date'].dt.to_period('Y') # create a column with the year the file was recorded\n",
    "    \n",
    "    out_df = rs_df.sort_values(by='score',ascending=False).groupby(by = ['pond', 'date_group']).head(n).sort_values(by = ['pond', 'year', 'date_group'])\n",
    "\n",
    "    \n",
    "    # organize the df\n",
    "    out_df['file_path'] = out_df['file_path'].str.slice(61) # simplify file path to not have beginning crap\n",
    "    out_df = out_df.reindex(columns = ['Lcapito', 'pond', 'date_group', 'score', 'time_stamp', 'file_path']) #order columns \n",
    "   \n",
    "    return out_df\n",
    "\n",
    "\n"
   ]
  },
  {
   "cell_type": "code",
   "execution_count": 164,
   "metadata": {},
   "outputs": [],
   "source": [
    "test = get_top_rs(rs_df, n=2, t_unit = 'year')\n",
    "test.head(20)\n",
    "test.to_csv(\"test_organized_scores.csv\") \n"
   ]
  },
  {
   "cell_type": "code",
   "execution_count": 13,
   "metadata": {},
   "outputs": [
    {
     "data": {
      "image/png": "[encoded data removed]",
      "text/plain": [
       "<Figure size 1080x576 with 1 Axes>"
      ]
     },
     "metadata": {
      "needs_background": "light"
     },
     "output_type": "display_data"
    },
    {
     "data": {
      "image/png": "[encoded data removed]",
      "text/plain": [
       "<Figure size 1080x576 with 1 Axes>"
      ]
     },
     "metadata": {
      "needs_background": "light"
     },
     "output_type": "display_data"
    },
    {
     "data": {
      "image/png": "[encoded data removed]",
      "text/plain": [
       "<Figure size 1080x576 with 1 Axes>"
      ]
     },
     "metadata": {
      "needs_background": "light"
     },
     "output_type": "display_data"
    },
    {
     "data": {
      "image/png": "[encoded data removed]",
      "text/plain": [
       "<Figure size 1080x576 with 1 Axes>"
      ]
     },
     "metadata": {
      "needs_background": "light"
     },
     "output_type": "display_data"
    },
    {
     "data": {
      "image/png": "[encoded data removed]",
      "text/plain": [
       "<Figure size 1080x576 with 1 Axes>"
      ]
     },
     "metadata": {
      "needs_background": "light"
     },
     "output_type": "display_data"
    }
   ],
   "source": [
    "#pd.set_option('display.max_colwidth', -1) \n",
    "#rs_df[rs_df[\"pond\"] == 398][rs_df[\"year\"] == 2017]\n",
    "\n",
    "#for yr in range(2017,2022):\n",
    "#    plot_rs(pond_no = 401, year = yr)\n",
    "\n",
    "for pond in range(398, 403): \n",
    "    plot_hist(pond_no = pond)\n"
   ]
  },
  {
   "cell_type": "code",
   "execution_count": 264,
   "metadata": {},
   "outputs": [
    {
     "data": {
      "text/html": [
       "<div>\n",
       "<style scoped>\n",
       "    .dataframe tbody tr th:only-of-type {\n",
       "        vertical-align: middle;\n",
       "    }\n",
       "\n",
       "    .dataframe tbody tr th {\n",
       "        vertical-align: top;\n",
       "    }\n",
       "\n",
       "    .dataframe thead th {\n",
       "        text-align: right;\n",
       "    }\n",
       "</style>\n",
       "<table border=\"1\" class=\"dataframe\">\n",
       "  <thead>\n",
       "    <tr style=\"text-align: right;\">\n",
       "      <th></th>\n",
       "      <th>file_path</th>\n",
       "      <th>score</th>\n",
       "      <th>year</th>\n",
       "      <th>pond</th>\n",
       "      <th>time_stamp</th>\n",
       "      <th>date</th>\n",
       "      <th>Lcapito</th>\n",
       "    </tr>\n",
       "  </thead>\n",
       "  <tbody>\n",
       "    <tr>\n",
       "      <th>1113</th>\n",
       "      <td>/Volumes/Expansion/Frog Call Project/Calling Data/Frog Calls/FLSHE_2018/FLSHE_2018_398/TEST_0+1_20180508_222300.wav</td>\n",
       "      <td>60.22</td>\n",
       "      <td>2018</td>\n",
       "      <td>398</td>\n",
       "      <td>232.0</td>\n",
       "      <td>2018-05-08 22:23:00</td>\n",
       "      <td>NaN</td>\n",
       "    </tr>\n",
       "    <tr>\n",
       "      <th>1114</th>\n",
       "      <td>/Volumes/Expansion/Frog Call Project/Calling Data/Frog Calls/FLSHE_2018/FLSHE_2018_398/TEST_0+1_20180511_012500.wav</td>\n",
       "      <td>57.53</td>\n",
       "      <td>2018</td>\n",
       "      <td>398</td>\n",
       "      <td>44.0</td>\n",
       "      <td>2018-05-11 01:25:00</td>\n",
       "      <td>NaN</td>\n",
       "    </tr>\n",
       "    <tr>\n",
       "      <th>1115</th>\n",
       "      <td>/Volumes/Expansion/Frog Call Project/Calling Data/Frog Calls/FLSHE_2018/FLSHE_2018_398/TEST_0+1_20180318_234700.wav</td>\n",
       "      <td>55.39</td>\n",
       "      <td>2018</td>\n",
       "      <td>398</td>\n",
       "      <td>138.0</td>\n",
       "      <td>2018-03-18 23:47:00</td>\n",
       "      <td>NaN</td>\n",
       "    </tr>\n",
       "    <tr>\n",
       "      <th>1116</th>\n",
       "      <td>/Volumes/Expansion/Frog Call Project/Calling Data/Frog Calls/FLSHE_2018/FLSHE_2018_398/TEST_0+1_20180121_190000.wav</td>\n",
       "      <td>52.94</td>\n",
       "      <td>2018</td>\n",
       "      <td>398</td>\n",
       "      <td>40.0</td>\n",
       "      <td>2018-01-21 19:00:00</td>\n",
       "      <td>NaN</td>\n",
       "    </tr>\n",
       "    <tr>\n",
       "      <th>1117</th>\n",
       "      <td>/Volumes/Expansion/Frog Call Project/Calling Data/Frog Calls/FLSHE_2018/FLSHE_2018_398/TEST_0+1_20180116_195500.wav</td>\n",
       "      <td>52.62</td>\n",
       "      <td>2018</td>\n",
       "      <td>398</td>\n",
       "      <td>6.0</td>\n",
       "      <td>2018-01-16 19:55:00</td>\n",
       "      <td>NaN</td>\n",
       "    </tr>\n",
       "    <tr>\n",
       "      <th>...</th>\n",
       "      <td>...</td>\n",
       "      <td>...</td>\n",
       "      <td>...</td>\n",
       "      <td>...</td>\n",
       "      <td>...</td>\n",
       "      <td>...</td>\n",
       "      <td>...</td>\n",
       "    </tr>\n",
       "    <tr>\n",
       "      <th>6581</th>\n",
       "      <td>/Volumes/Expansion/Frog Call Project/Calling Data/Frog Calls/FLSHE_2017/FLSHE_2017_398/TEST_0+1_20170111_205100.wav</td>\n",
       "      <td>40.08</td>\n",
       "      <td>2017</td>\n",
       "      <td>398</td>\n",
       "      <td>174.0</td>\n",
       "      <td>2017-01-11 20:51:00</td>\n",
       "      <td>NaN</td>\n",
       "    </tr>\n",
       "    <tr>\n",
       "      <th>6582</th>\n",
       "      <td>/Volumes/Expansion/Frog Call Project/Calling Data/Frog Calls/FLSHE_2017/FLSHE_2017_398/TEST_0+1_20161129_183100.wav</td>\n",
       "      <td>40.07</td>\n",
       "      <td>2017</td>\n",
       "      <td>398</td>\n",
       "      <td>284.0</td>\n",
       "      <td>2016-11-29 18:31:00</td>\n",
       "      <td>NaN</td>\n",
       "    </tr>\n",
       "    <tr>\n",
       "      <th>6583</th>\n",
       "      <td>/Volumes/Expansion/Frog Call Project/Calling Data/Frog Calls/FLSHE_2017/FLSHE_2017_398/TEST_0+1_20170414_230600.wav</td>\n",
       "      <td>40.03</td>\n",
       "      <td>2017</td>\n",
       "      <td>398</td>\n",
       "      <td>182.0</td>\n",
       "      <td>2017-04-14 23:06:00</td>\n",
       "      <td>NaN</td>\n",
       "    </tr>\n",
       "    <tr>\n",
       "      <th>6584</th>\n",
       "      <td>/Volumes/Expansion/Frog Call Project/Calling Data/Frog Calls/FLSHE_2017/FLSHE_2017_398/TEST_0+1_20171215_003300.wav</td>\n",
       "      <td>40.01</td>\n",
       "      <td>2017</td>\n",
       "      <td>398</td>\n",
       "      <td>44.0</td>\n",
       "      <td>2017-12-15 00:33:00</td>\n",
       "      <td>NaN</td>\n",
       "    </tr>\n",
       "    <tr>\n",
       "      <th>6585</th>\n",
       "      <td>/Volumes/Expansion/Frog Call Project/Calling Data/Frog Calls/FLSHE_2017/FLSHE_2017_398/TEST_0+1_20170112_185200.wav</td>\n",
       "      <td>40.00</td>\n",
       "      <td>2017</td>\n",
       "      <td>398</td>\n",
       "      <td>197.0</td>\n",
       "      <td>2017-01-12 18:52:00</td>\n",
       "      <td>NaN</td>\n",
       "    </tr>\n",
       "  </tbody>\n",
       "</table>\n",
       "<p>143 rows × 7 columns</p>\n",
       "</div>"
      ],
      "text/plain": [
       "                                                                                                                file_path  \\\n",
       "1113  /Volumes/Expansion/Frog Call Project/Calling Data/Frog Calls/FLSHE_2018/FLSHE_2018_398/TEST_0+1_20180508_222300.wav   \n",
       "1114  /Volumes/Expansion/Frog Call Project/Calling Data/Frog Calls/FLSHE_2018/FLSHE_2018_398/TEST_0+1_20180511_012500.wav   \n",
       "1115  /Volumes/Expansion/Frog Call Project/Calling Data/Frog Calls/FLSHE_2018/FLSHE_2018_398/TEST_0+1_20180318_234700.wav   \n",
       "1116  /Volumes/Expansion/Frog Call Project/Calling Data/Frog Calls/FLSHE_2018/FLSHE_2018_398/TEST_0+1_20180121_190000.wav   \n",
       "1117  /Volumes/Expansion/Frog Call Project/Calling Data/Frog Calls/FLSHE_2018/FLSHE_2018_398/TEST_0+1_20180116_195500.wav   \n",
       "...                                                                                                                   ...   \n",
       "6581  /Volumes/Expansion/Frog Call Project/Calling Data/Frog Calls/FLSHE_2017/FLSHE_2017_398/TEST_0+1_20170111_205100.wav   \n",
       "6582  /Volumes/Expansion/Frog Call Project/Calling Data/Frog Calls/FLSHE_2017/FLSHE_2017_398/TEST_0+1_20161129_183100.wav   \n",
       "6583  /Volumes/Expansion/Frog Call Project/Calling Data/Frog Calls/FLSHE_2017/FLSHE_2017_398/TEST_0+1_20170414_230600.wav   \n",
       "6584  /Volumes/Expansion/Frog Call Project/Calling Data/Frog Calls/FLSHE_2017/FLSHE_2017_398/TEST_0+1_20171215_003300.wav   \n",
       "6585  /Volumes/Expansion/Frog Call Project/Calling Data/Frog Calls/FLSHE_2017/FLSHE_2017_398/TEST_0+1_20170112_185200.wav   \n",
       "\n",
       "      score  year  pond  time_stamp                date  Lcapito  \n",
       "1113  60.22  2018  398   232.0      2018-05-08 22:23:00 NaN       \n",
       "1114  57.53  2018  398   44.0       2018-05-11 01:25:00 NaN       \n",
       "1115  55.39  2018  398   138.0      2018-03-18 23:47:00 NaN       \n",
       "1116  52.94  2018  398   40.0       2018-01-21 19:00:00 NaN       \n",
       "1117  52.62  2018  398   6.0        2018-01-16 19:55:00 NaN       \n",
       "...     ...   ...  ...   ...                        ...  ..       \n",
       "6581  40.08  2017  398   174.0      2017-01-11 20:51:00 NaN       \n",
       "6582  40.07  2017  398   284.0      2016-11-29 18:31:00 NaN       \n",
       "6583  40.03  2017  398   182.0      2017-04-14 23:06:00 NaN       \n",
       "6584  40.01  2017  398   44.0       2017-12-15 00:33:00 NaN       \n",
       "6585  40.00  2017  398   197.0      2017-01-12 18:52:00 NaN       \n",
       "\n",
       "[143 rows x 7 columns]"
      ]
     },
     "execution_count": 264,
     "metadata": {},
     "output_type": "execute_result"
    }
   ],
   "source": [
    "rs_df[rs_df[\"pond\"] == 398][rs_df[rs_df[\"pond\"] == 398]['score'] > 40]"
   ]
  },
  {
   "cell_type": "code",
   "execution_count": null,
   "metadata": {},
   "outputs": [],
   "source": []
  }
 ],
 "metadata": {
  "kernelspec": {
   "display_name": "OpenSoundscape060",
   "language": "python",
   "name": "opensoundscape060"
  },
  "language_info": {
   "codemirror_mode": {
    "name": "ipython",
    "version": 3
   },
   "file_extension": ".py",
   "mimetype": "text/x-python",
   "name": "python",
   "nbconvert_exporter": "python",
   "pygments_lexer": "ipython3",
   "version": "3.7.11"
  }
 },
 "nbformat": 4,
 "nbformat_minor": 4
}
