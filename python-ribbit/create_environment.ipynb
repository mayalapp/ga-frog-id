{
 "cells": [
  {
   "cell_type": "markdown",
   "metadata": {},
   "source": [
    "# Create and use environments in Python "
   ]
  },
  {
   "cell_type": "code",
   "execution_count": null,
   "metadata": {},
   "outputs": [],
   "source": [
    "# In terminal\n",
    "#Create a Python 3.7 conda environment for opensoundscape: \n",
    "conda create --name env_name pip python=3.7 # (or another version number)\n",
    "\n",
    "#Activate the environment: \n",
    "conda activate opensoundscape\n",
    "\n",
    "#Install my_package using pip: \n",
    "pip install my_package==0.6.0 # (0.6.0 is the version number - this is an example)\n",
    "\n",
    "# get environment to show in jupyter \n",
    "python -m ipykernel install --user --name=env_name --display-name=env_name\n",
    "\n",
    "\n",
    "#Deactivate the environment when you’re done using it: \n",
    "conda deactivate\n",
    "\n"
   ]
  }
 ],
 "metadata": {
  "kernelspec": {
   "display_name": "Python 3",
   "language": "python",
   "name": "python3"
  },
  "language_info": {
   "codemirror_mode": {
    "name": "ipython",
    "version": 3
   },
   "file_extension": ".py",
   "mimetype": "text/x-python",
   "name": "python",
   "nbconvert_exporter": "python",
   "pygments_lexer": "ipython3",
   "version": "3.7.6"
  }
 },
 "nbformat": 4,
 "nbformat_minor": 4
}
